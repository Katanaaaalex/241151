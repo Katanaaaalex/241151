{
 "cells": [
  {
   "cell_type": "markdown",
   "metadata": {},
   "source": [
    "# *Условие 2: *\n",
    "На складе лежат разные фрукты в разном количестве.\n",
    "Нужно написать функцию, которая на вход принимает любое количество названий фруктов и их количество, а возвращает общее количество фруктов на складе"
   ]
  },
  {
   "cell_type": "code",
   "execution_count": 7,
   "metadata": {},
   "outputs": [
    {
     "name": "stdout",
     "output_type": "stream",
     "text": [
      "Фрукт apple в количестве 18 штук\n",
      "Фрукт orange в количестве 29 штук\n",
      "Фрукт lemon в количестве 10 штук\n",
      "Общее количество фруктов на складе: 57\n"
     ]
    }
   ],
   "source": [
    "def fruit_basket(**juice):\n",
    "    {print(f\"Фрукт {name} в количестве {values} штук\")\n",
    "     for name, values in juice.items()}\n",
    "    return print(f'Общее количество фруктов на складе: {sum(juice.values())}')\n",
    "fruit_basket(\n",
    "    apple = 18,\n",
    "    orange = 29,\n",
    "    lemon = 10\n",
    ")\n"
   ]
  },
  {
   "cell_type": "markdown",
   "metadata": {},
   "source": [
    "# *Условие 3: *\n",
    "Дан список с затратами на рекламу. Но в данных есть ошибки, некоторые затраты имеют отрицательную величину. Удалите такие значения из списка и посчитайте суммарные затраты\n",
    "[100, 125, -90, 345, 655, -1, 0, 200]\n",
    "Используйте list comprehensions"
   ]
  },
  {
   "cell_type": "code",
   "execution_count": 11,
   "metadata": {},
   "outputs": [
    {
     "name": "stdout",
     "output_type": "stream",
     "text": [
      "Затраты на рекламу с положительными величинами [100, 125, 345, 655, 200]\n"
     ]
    },
    {
     "data": {
      "text/plain": [
       "'Суммарные затраты на рекламу составляют: 1425'"
      ]
     },
     "execution_count": 11,
     "metadata": {},
     "output_type": "execute_result"
    }
   ],
   "source": [
    "list = [100, 125, -90, 345, 655, -1, 0, 200]\n",
    "advertising_costs = [item for item in list if item > 0]\n",
    "print(f'Затраты на рекламу с положительными величинами {advertising_costs}')\n",
    "f\"Суммарные затраты на рекламу составляют: {sum(advertising_costs)}\"\n"
   ]
  },
  {
   "cell_type": "markdown",
   "metadata": {},
   "source": [
    "# *Условие 4: *\n",
    "Даны два списка.\n",
    "Дата покупки\n",
    "['2021-09-14', '2021-12-15', '2021-09-08', '2021-12-05', '2021-10-09', '2021-09-30', '2021-12-22', '2021-11-29', '2021-12-24', '2021-11-26', '2021-10-27', '2021-12-18', '2021-11-09', '2021-11-23', '2021-09-27', '2021-10-02', '2021-12-27', '2021-09-20', '2021-12-13', '2021-11-01', '2021-11-09', '2021-12-06', '2021-12-08', '2021-10-09', '2021-10-31', '2021-09-30', '2021-11-09', '2021-12-13', '2021-10-26', '2021-12-09']\n",
    "Суммы покупок по датам\n",
    "[1270, 8413, 9028, 3703, 5739, 4095, 295, 4944, 5723, 3701, 4471, 651, 7037, 4274, 6275, 4988, 6930, 2971, 6592, 2004, 2822, 519, 3406, 2732, 5015, 2008, 316, 6333, 5700, 2887]\n",
    "## 4.1 Найдите, какая выручка у компании в ноябре\n",
    "Используйте list comprehensions\n",
    "## 4.2 Найдите выручку компании в зависимости от месяца\n",
    "Для этого напишите функцию, которая на вход принимает список с датами и список с выручкой, а на выходе словарь, где ключи - это месяцы, а значения - это выручка.\n",
    "Используйте аннотирование типов."
   ]
  },
  {
   "cell_type": "code",
   "execution_count": 12,
   "metadata": {},
   "outputs": [
    {
     "name": "stdout",
     "output_type": "stream",
     "text": [
      "['09', '12', '09', '12', '10', '09', '12', '11', '12', '11', '10', '12', '11', '11', '09', '10', '12', '09', '12', '11', '11', '12', '12', '10', '10', '09', '11', '12', '10', '12']\n"
     ]
    }
   ],
   "source": [
    "list_data = ['2021-09-14', '2021-12-15', '2021-09-08', '2021-12-05', '2021-10-09', '2021-09-30', \n",
    "             '2021-12-22', '2021-11-29', '2021-12-24', '2021-11-26', '2021-10-27', '2021-12-18', \n",
    "             '2021-11-09', '2021-11-23', '2021-09-27', '2021-10-02', '2021-12-27', '2021-09-20', \n",
    "             '2021-12-13', '2021-11-01', '2021-11-09', '2021-12-06', '2021-12-08', '2021-10-09', \n",
    "             '2021-10-31', '2021-09-30', '2021-11-09', '2021-12-13', '2021-10-26', '2021-12-09']\n",
    "purchases_data = [1270, 8413, 9028, 3703, 5739, 4095, \n",
    "                  295, 4944, 5723, 3701, 4471, 651, \n",
    "                  7037, 4274, 6275, 4988, 6930, 2971, \n",
    "                  6592, 2004, 2822, 519, 3406, 2732, \n",
    "                  5015, 2008, 316, 6333, 5700, 2887]\n",
    "list_Month = [i.split('-')[1] for i in list_data]\n",
    "print(list_Month)"
   ]
  },
  {
   "cell_type": "code",
   "execution_count": 17,
   "metadata": {},
   "outputs": [
    {
     "name": "stdout",
     "output_type": "stream",
     "text": [
      "Месяц 11 суммарная выручка составила: 25098\n"
     ]
    }
   ],
   "source": [
    "tuple_November_Revenue = [(f'Месяц {list_Month[i]}', f'выручка {purchases_data[j]}')\n",
    "                          for i in range(len(list_Month))\n",
    "                          for j in range(len(purchases_data))\n",
    "                          if i == j and list_Month[i] == '11']\n",
    "tuple_November_Revenue\n",
    "print(tuple_November_Revenue[0][0], f'суммарная выручка составила: {sum([purchases for data, purchases in zip(list_data, purchases_data) if data[5:7] == \"11\"])}')"
   ]
  },
  {
   "cell_type": "code",
   "execution_count": 18,
   "metadata": {},
   "outputs": [
    {
     "data": {
      "text/plain": [
       "{'09': 25647, '12': 45452, '10': 28645, '11': 25098}"
      ]
     },
     "execution_count": 18,
     "metadata": {},
     "output_type": "execute_result"
    }
   ],
   "source": [
    "def revenue_by_month(list_date: list, list_revenue: list) -> dict:\n",
    "    dict_Month = {}\n",
    "    for i in range(len(list_date)):\n",
    "        if list_date[i].split('-')[1] in dict_Month.keys():\n",
    "            dict_Month[list_date[i].split('-')[1]] += list_revenue[i]\n",
    "        else:\n",
    "            dict_Month[list_date[i].split('-')[1]] = list_revenue[i]\n",
    "    return dict_Month\n",
    "revenue_by_month(list_data, purchases_data)"
   ]
  },
  {
   "cell_type": "code",
   "execution_count": 20,
   "metadata": {},
   "outputs": [
    {
     "name": "stdout",
     "output_type": "stream",
     "text": [
      "On branch master\n",
      "\n",
      "No commits yet\n",
      "\n",
      "Untracked files:\n",
      "  (use \"git add <file>...\" to include in what will be committed)\n",
      "\t../../../.dotnet/\n",
      "\t../../../.gitconfig\n",
      "\t../../../.ipython/\n",
      "\t../../../.lesshst\n",
      "\t../../../.templateengine/\n",
      "\t../../../.viminfo\n",
      "\t../../../.vscode/\n",
      "\t../../../AppData/\n",
      "\t../../../Contacts/\n",
      "\t../../\n",
      "\t../../../Documents/\n",
      "\t../../../Downloads/\n",
      "\t../../../Favorites/\n",
      "\t../../../Links/\n",
      "\t../../../Music/\n",
      "\t../../../NTUSER.DAT\n",
      "\t../../../NTUSER.DAT{e74297e4-fd8e-11ed-b0f3-bda77006008c}.TM.blf\n",
      "\t../../../NTUSER.DAT{e74297e4-fd8e-11ed-b0f3-bda77006008c}.TMContainer00000000000000000001.regtrans-ms\n",
      "\t../../../NTUSER.DAT{e74297e4-fd8e-11ed-b0f3-bda77006008c}.TMContainer00000000000000000002.regtrans-ms\n",
      "\t../../../OneDrive/\n",
      "\t../../../Pictures/\n",
      "\t../../../Saved Games/\n",
      "\t../../../Searches/\n",
      "\t../../../Videos/\n",
      "\t../../../ntuser.dat.LOG1\n",
      "\t../../../ntuser.dat.LOG2\n",
      "\t../../../ntuser.ini\n",
      "\n",
      "nothing added to commit but untracked files present (use \"git add\" to track)\n"
     ]
    },
    {
     "name": "stderr",
     "output_type": "stream",
     "text": [
      "warning: could not open directory 'Application Data/': Permission denied\n",
      "warning: could not open directory 'Cookies/': Permission denied\n",
      "warning: could not open directory 'Local Settings/': Permission denied\n",
      "warning: could not open directory 'NetHood/': Permission denied\n",
      "warning: could not open directory 'PrintHood/': Permission denied\n",
      "warning: could not open directory 'Recent/': Permission denied\n",
      "warning: could not open directory 'SendTo/': Permission denied\n",
      "warning: could not open directory 'главное меню/': Permission denied\n",
      "warning: could not open directory 'Мои документы/': Permission denied\n",
      "warning: could not open directory 'Шаблоны/': Permission denied\n"
     ]
    }
   ],
   "source": [
    "!git status"
   ]
  },
  {
   "cell_type": "code",
   "execution_count": 22,
   "metadata": {},
   "outputs": [
    {
     "name": "stderr",
     "output_type": "stream",
     "text": [
      "warning: in the working copy of 'Desktop/Обучение Geek Brains/Python/les1.ipynb', LF will be replaced by CRLF the next time Git touches it\n"
     ]
    }
   ],
   "source": [
    "!git add les1.ipynb"
   ]
  },
  {
   "cell_type": "code",
   "execution_count": 23,
   "metadata": {},
   "outputs": [
    {
     "name": "stdout",
     "output_type": "stream",
     "text": [
      "[master (root-commit) bc0df1e] ДЗ 1\n",
      " 1 file changed, 274 insertions(+)\n",
      " create mode 100644 \"Desktop/\\320\\236\\320\\261\\321\\203\\321\\207\\320\\265\\320\\275\\320\\270\\320\\265 Geek Brains/Python/les1.ipynb\"\n"
     ]
    }
   ],
   "source": [
    "!git commit -m \"ДЗ 1\""
   ]
  },
  {
   "cell_type": "code",
   "execution_count": 24,
   "metadata": {},
   "outputs": [
    {
     "name": "stdout",
     "output_type": "stream",
     "text": [
      "On branch master\n",
      "Changes not staged for commit:\n",
      "  (use \"git add <file>...\" to update what will be committed)\n",
      "  (use \"git restore <file>...\" to discard changes in working directory)\n",
      "\tmodified:   les1.ipynb\n",
      "\n",
      "Untracked files:\n",
      "  (use \"git add <file>...\" to include in what will be committed)\n",
      "\t../../../.dotnet/\n",
      "\t../../../.gitconfig\n",
      "\t../../../.ipython/\n",
      "\t../../../.lesshst\n",
      "\t../../../.templateengine/\n",
      "\t../../../.viminfo\n",
      "\t../../../.vscode/\n",
      "\t../../../AppData/\n",
      "\t../../../Contacts/\n",
      "\t../../Google Chrome.lnk\n",
      "\t../../Microsoft Edge.lnk\n",
      "\t../../Notion.lnk\n",
      "\t../../Task_8_seminar-main/\n",
      "\t../../Telegram.lnk\n",
      "\t../../Visual Studio Code.lnk\n",
      "\t../../Yandex.lnk\n",
      "\t../../Zoom.lnk\n",
      "\t../../desktop.ini\n",
      "\t\"../../example - \\320\\257\\321\\200\\320\\273\\321\\213\\320\\272.lnk\"\n",
      "\t../../example/\n",
      "\t\"../1 \\321\\207\\320\\265\\321\\202\\320\\262\\320\\265\\321\\200\\321\\202\\321\\214/\"\n",
      "\t../Excel/\n",
      "\tles.ipynb\n",
      "\t\"../\\320\\222\\321\\215\\320\\261- \\321\\202\\320\\265\\321\\205\\320\\275\\320\\276\\320\\273\\320\\276\\320\\263\\320\\270\\320\\270/\"\n",
      "\t\"../\\320\\227\\320\\275\\320\\260\\320\\272\\320\\276\\320\\274\\321\\201\\321\\202\\320\\262\\320\\276 \\321\\201 Python/\"\n",
      "\t\"../\\320\\232\\320\\276\\320\\273\\320\\265\\321\\201\\320\\276 \\320\\232\\320\\276\\320\\274\\320\\277\\320\\265\\321\\202\\320\\265\\320\\275\\321\\206\\320\\270\\320\\271.pdf\"\n",
      "\t\"../\\320\\234\\320\\260\\321\\202\\321\\200\\320\\270\\321\\206\\320\\260 \\320\\224\\320\\265\\320\\272\\320\\260\\321\\200\\321\\202\\320\\260.pdf\"\n",
      "\t\"../../\\320\\244\\320\\273\\320\\265\\321\\210\\320\\272\\320\\260/\"\n",
      "\t\"../../\\321\\201\\320\\276\\320\\267\\320\\264\\320\\260\\320\\275\\320\\270\\320\\265 \\321\\201\\320\\260\\320\\271\\321\\202\\320\\260.txt\"\n",
      "\t../../../Documents/\n",
      "\t../../../Downloads/\n",
      "\t../../../Favorites/\n",
      "\t../../../Links/\n",
      "\t../../../Music/\n",
      "\t../../../NTUSER.DAT\n",
      "\t../../../NTUSER.DAT{e74297e4-fd8e-11ed-b0f3-bda77006008c}.TM.blf\n",
      "\t../../../NTUSER.DAT{e74297e4-fd8e-11ed-b0f3-bda77006008c}.TMContainer00000000000000000001.regtrans-ms\n",
      "\t../../../NTUSER.DAT{e74297e4-fd8e-11ed-b0f3-bda77006008c}.TMContainer00000000000000000002.regtrans-ms\n",
      "\t../../../OneDrive/\n",
      "\t../../../Pictures/\n",
      "\t../../../Saved Games/\n",
      "\t../../../Searches/\n",
      "\t../../../Videos/\n",
      "\t../../../ntuser.dat.LOG1\n",
      "\t../../../ntuser.dat.LOG2\n",
      "\t../../../ntuser.ini\n",
      "\n",
      "no changes added to commit (use \"git add\" and/or \"git commit -a\")\n"
     ]
    },
    {
     "name": "stderr",
     "output_type": "stream",
     "text": [
      "warning: could not open directory 'Application Data/': Permission denied\n",
      "warning: could not open directory 'Cookies/': Permission denied\n",
      "warning: could not open directory 'Local Settings/': Permission denied\n",
      "warning: could not open directory 'NetHood/': Permission denied\n",
      "warning: could not open directory 'PrintHood/': Permission denied\n",
      "warning: could not open directory 'Recent/': Permission denied\n",
      "warning: could not open directory 'SendTo/': Permission denied\n",
      "warning: could not open directory 'главное меню/': Permission denied\n",
      "warning: could not open directory 'Мои документы/': Permission denied\n",
      "warning: could not open directory 'Шаблоны/': Permission denied\n"
     ]
    }
   ],
   "source": [
    "!git status"
   ]
  },
  {
   "cell_type": "code",
   "execution_count": 25,
   "metadata": {},
   "outputs": [
    {
     "name": "stdout",
     "output_type": "stream",
     "text": [
      "Initialized empty Git repository in C:/Users/79992/Desktop/Обучение Geek Brains/Python/.git/\n"
     ]
    }
   ],
   "source": [
    "!git init"
   ]
  },
  {
   "cell_type": "code",
   "execution_count": 26,
   "metadata": {},
   "outputs": [],
   "source": [
    "!git remote add origin https://github.com/Katanaaaalex/241151.git"
   ]
  },
  {
   "cell_type": "code",
   "execution_count": 27,
   "metadata": {},
   "outputs": [],
   "source": [
    "!git branch -M main"
   ]
  },
  {
   "cell_type": "code",
   "execution_count": 28,
   "metadata": {},
   "outputs": [
    {
     "name": "stderr",
     "output_type": "stream",
     "text": [
      "error: src refspec main does not match any\n",
      "error: failed to push some refs to 'https://github.com/Katanaaaalex/241151.git'\n"
     ]
    }
   ],
   "source": [
    "!git push -u origin main"
   ]
  },
  {
   "cell_type": "code",
   "execution_count": 29,
   "metadata": {},
   "outputs": [
    {
     "name": "stderr",
     "output_type": "stream",
     "text": [
      "fatal: The current branch main has no upstream branch.\n",
      "To push the current branch and set the remote as upstream, use\n",
      "\n",
      "    git push --set-upstream origin main\n",
      "\n",
      "To have this happen automatically for branches without a tracking\n",
      "upstream, see 'push.autoSetupRemote' in 'git help config'.\n",
      "\n"
     ]
    }
   ],
   "source": [
    "!git push"
   ]
  },
  {
   "cell_type": "code",
   "execution_count": 30,
   "metadata": {},
   "outputs": [
    {
     "name": "stderr",
     "output_type": "stream",
     "text": [
      "error: src refspec main does not match any\n",
      "error: failed to push some refs to 'https://github.com/Katanaaaalex/241151.git'\n"
     ]
    }
   ],
   "source": [
    "!git push --set-upstream origin main"
   ]
  },
  {
   "cell_type": "code",
   "execution_count": 31,
   "metadata": {},
   "outputs": [
    {
     "name": "stdout",
     "output_type": "stream",
     "text": [
      "On branch main\n",
      "\n",
      "No commits yet\n",
      "\n",
      "Untracked files:\n",
      "  (use \"git add <file>...\" to include in what will be committed)\n",
      "\tles.ipynb\n",
      "\tles1.ipynb\n",
      "\n",
      "nothing added to commit but untracked files present (use \"git add\" to track)\n"
     ]
    }
   ],
   "source": [
    "!git status"
   ]
  },
  {
   "cell_type": "code",
   "execution_count": 33,
   "metadata": {},
   "outputs": [
    {
     "name": "stderr",
     "output_type": "stream",
     "text": [
      "warning: in the working copy of 'les1.ipynb', LF will be replaced by CRLF the next time Git touches it\n"
     ]
    }
   ],
   "source": [
    "!git add les1.ipynb"
   ]
  },
  {
   "cell_type": "code",
   "execution_count": 32,
   "metadata": {},
   "outputs": [
    {
     "name": "stderr",
     "output_type": "stream",
     "text": [
      "warning: in the working copy of 'les.ipynb', LF will be replaced by CRLF the next time Git touches it\n"
     ]
    }
   ],
   "source": [
    "!git add les.ipynb"
   ]
  },
  {
   "cell_type": "code",
   "execution_count": 34,
   "metadata": {},
   "outputs": [
    {
     "name": "stdout",
     "output_type": "stream",
     "text": [
      "On branch main\n",
      "\n",
      "No commits yet\n",
      "\n",
      "Changes to be committed:\n",
      "  (use \"git rm --cached <file>...\" to unstage)\n",
      "\tnew file:   les.ipynb\n",
      "\tnew file:   les1.ipynb\n",
      "\n",
      "Changes not staged for commit:\n",
      "  (use \"git add <file>...\" to update what will be committed)\n",
      "  (use \"git restore <file>...\" to discard changes in working directory)\n",
      "\tmodified:   les1.ipynb\n",
      "\n"
     ]
    }
   ],
   "source": [
    "!git status"
   ]
  },
  {
   "cell_type": "code",
   "execution_count": 35,
   "metadata": {},
   "outputs": [
    {
     "name": "stderr",
     "output_type": "stream",
     "text": [
      "warning: in the working copy of 'les1.ipynb', LF will be replaced by CRLF the next time Git touches it\n"
     ]
    }
   ],
   "source": [
    "!git add les1.ipynb"
   ]
  },
  {
   "cell_type": "code",
   "execution_count": 36,
   "metadata": {},
   "outputs": [
    {
     "name": "stdout",
     "output_type": "stream",
     "text": [
      "[main (root-commit) e44f251] Семинар\n",
      " 2 files changed, 821 insertions(+)\n",
      " create mode 100644 les.ipynb\n",
      " create mode 100644 les1.ipynb\n"
     ]
    }
   ],
   "source": [
    "!git commit -m \"Семинар\""
   ]
  },
  {
   "cell_type": "code",
   "execution_count": 37,
   "metadata": {},
   "outputs": [
    {
     "name": "stdout",
     "output_type": "stream",
     "text": [
      "On branch main\n",
      "Changes not staged for commit:\n",
      "  (use \"git add <file>...\" to update what will be committed)\n",
      "  (use \"git restore <file>...\" to discard changes in working directory)\n",
      "\tmodified:   les1.ipynb\n",
      "\n",
      "no changes added to commit (use \"git add\" and/or \"git commit -a\")\n"
     ]
    }
   ],
   "source": [
    "!git status"
   ]
  },
  {
   "cell_type": "code",
   "execution_count": 38,
   "metadata": {},
   "outputs": [
    {
     "name": "stderr",
     "output_type": "stream",
     "text": [
      "warning: in the working copy of 'les1.ipynb', LF will be replaced by CRLF the next time Git touches it\n"
     ]
    }
   ],
   "source": [
    "!git add les1.ipynb"
   ]
  },
  {
   "cell_type": "code",
   "execution_count": 39,
   "metadata": {},
   "outputs": [
    {
     "name": "stdout",
     "output_type": "stream",
     "text": [
      "[main b8fe9e3] Решение дз 1\n",
      " 1 file changed, 60 insertions(+)\n"
     ]
    }
   ],
   "source": [
    "!git commit -m \"Решение дз 1\""
   ]
  }
 ],
 "metadata": {
  "kernelspec": {
   "display_name": "Python 3",
   "language": "python",
   "name": "python3"
  },
  "language_info": {
   "codemirror_mode": {
    "name": "ipython",
    "version": 3
   },
   "file_extension": ".py",
   "mimetype": "text/x-python",
   "name": "python",
   "nbconvert_exporter": "python",
   "pygments_lexer": "ipython3",
   "version": "3.11.3"
  },
  "orig_nbformat": 4
 },
 "nbformat": 4,
 "nbformat_minor": 2
}
